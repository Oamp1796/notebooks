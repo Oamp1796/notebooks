{
 "cells": [
  {
   "cell_type": "markdown",
   "metadata": {},
   "source": [
    "<font color=\"blue\">BIENVENIDO AL JUEGO DE PIEDRA, PAPEL Y TIJERA </font>"
   ]
  },
  {
   "cell_type": "markdown",
   "metadata": {},
   "source": [
    "En este Notebook encontrarás el código y la explicación de la creación de un juego simple de piedra, papel y tijera. De un Usuario Humano vS Computador. Con la división del juego basado en 3 funciones principales: \n",
    "- Declaración de Opciones\n",
    "- Reglas del Juego \n",
    "- Decisión del Ganador \n",
    "\n",
    "Este código y las funciones están basadas en las clases de los cursos básico y de comprehension, funciones y manejo de errores de PLATZI. "
   ]
  },
  {
   "cell_type": "code",
   "execution_count": 1,
   "metadata": {},
   "outputs": [
    {
     "name": "stdout",
     "output_type": "stream",
     "text": [
      "Bienvenido al Juego de Piedra, Papel o Tijera\n"
     ]
    }
   ],
   "source": [
    "print('Bienvenido al Juego de Piedra, Papel o Tijera')\n",
    "import random"
   ]
  },
  {
   "cell_type": "markdown",
   "metadata": {},
   "source": [
    "<font color=\"blue\"> SECCIÓN I DE DECLARACIÓN DE OPCIONES:</font>\n",
    "\n",
    "En esta sección se presenta la definición de una función *choose_options* en la cual se declaran las tres opciones posibles para la decisión del juego, piedra, papel o tijera en la variable options. Se solicita el *input* de la opción del usuario, y se transforma en minúscula para no tener errores con respecto a las letras. Se declara if donde se define que si el *input* de la variable *user_option* no se encuentra en *options* entonces retorne un \"esa opción no es válida\". \n",
    "\n",
    "Luego se define la opción del computador, empleando la función random que fue importada en la head del código. Donde se emplea *random.choice* para seleccionar una opción de la variable *options* ya declarada. \n",
    "\n",
    "Finalmente se imprimen la opciones definidas para cada uno, y se retorna en la función los valores seleccionados en las varibales *user_option* y *computer_option*. "
   ]
  },
  {
   "cell_type": "code",
   "execution_count": 2,
   "metadata": {},
   "outputs": [],
   "source": [
    "def choose_options():\n",
    "    options = ('piedra', 'papel', 'tijera')\n",
    "    user_option = input('piedra, papel o tijera => ')\n",
    "    user_option = user_option.lower()\n",
    "\n",
    "    if not user_option in options:\n",
    "      print('esa opcion no es valida')\n",
    "      # continue\n",
    "      return None, None\n",
    "\n",
    "    computer_option = random.choice(options)\n",
    "  \n",
    "    print('User option =>', user_option)\n",
    "    print('Computer option =>', computer_option)\n",
    "    return user_option, computer_option"
   ]
  },
  {
   "cell_type": "markdown",
   "metadata": {},
   "source": [
    "<font color=\"blue\"> SECCIÓN II REGLAS DEL JUEGO: </font>\n",
    "\n",
    "En esta sección, se define la función *check_rules* donde se establece una secuencia de condicionales para evaluar las reglas del juego, que en este caso hace una comparación lógica directa entre la opción del usuario y la de la computadora para definir quién fue el ganador del turno. \n"
   ]
  },
  {
   "cell_type": "code",
   "execution_count": 3,
   "metadata": {},
   "outputs": [],
   "source": [
    "def check_rules(user_option, computer_option, user_wins, computer_wins):\n",
    "  if user_option == computer_option:\n",
    "      print('Empate!')\n",
    "  elif user_option == 'piedra':\n",
    "    if computer_option == 'tijera':\n",
    "        print('piedra gana a tijera')\n",
    "        print('user gano!')\n",
    "        user_wins += 1\n",
    "    else:\n",
    "        print('Papel gana a piedra')\n",
    "        print('computer gano!')\n",
    "        computer_wins += 1\n",
    "  elif user_option == 'papel':\n",
    "    if computer_option == 'piedra':\n",
    "        print('papel gana a piedra')\n",
    "        print('user gano')\n",
    "        user_wins += 1\n",
    "    else:\n",
    "        print('tijera gana a papel')\n",
    "        print('computer gano!')\n",
    "        computer_wins += 1\n",
    "  elif user_option == 'tijera':\n",
    "    if computer_option == 'papel':\n",
    "        print('tijera gana a papel')\n",
    "        print('user gano!')\n",
    "        user_wins += 1\n",
    "    else:\n",
    "        print('piedra gana a tijera')\n",
    "        print('computer gano!')\n",
    "        computer_wins += 1\n",
    "  return user_wins, computer_wins"
   ]
  },
  {
   "cell_type": "markdown",
   "metadata": {},
   "source": [
    "<font color=\"blue\"> SECCIÓN III DECISIÓN GANADOR: </font>\n",
    "\n",
    "En esta sección se definen dos funciones una llamada *check_winner* que tiene la secuencia lógica para declarar al ganador, en este caso la variable que cuenta las victorias de cada usuario, y la otra llamada *run_game* donde se declaran los contadores y se establece un while para la actualización de las variables y los contadores. "
   ]
  },
  {
   "cell_type": "code",
   "execution_count": null,
   "metadata": {},
   "outputs": [
    {
     "name": "stdout",
     "output_type": "stream",
     "text": [
      "**********\n",
      "ROUND 1\n",
      "**********\n",
      "computer_wins 0\n",
      "user_wins 0\n",
      "User option => piedra\n",
      "Computer option => tijera\n",
      "piedra gana a tijera\n",
      "user gano!\n",
      "**********\n",
      "ROUND 2\n",
      "**********\n",
      "computer_wins 0\n",
      "user_wins 1\n",
      "User option => papel\n",
      "Computer option => piedra\n",
      "papel gana a piedra\n",
      "user gano\n",
      "**********\n",
      "ROUND 3\n",
      "**********\n",
      "computer_wins 0\n",
      "user_wins 2\n",
      "esa opcion no es valida\n",
      "Empate!\n",
      "**********\n",
      "ROUND 4\n",
      "**********\n",
      "computer_wins 0\n",
      "user_wins 2\n",
      "User option => tijera\n",
      "Computer option => tijera\n",
      "Empate!\n",
      "**********\n",
      "ROUND 5\n",
      "**********\n",
      "computer_wins 0\n",
      "user_wins 2\n",
      "User option => piedra\n",
      "Computer option => tijera\n",
      "piedra gana a tijera\n",
      "user gano!\n",
      "El ganador es el usuario\n",
      "**********\n",
      "ROUND 6\n",
      "**********\n",
      "computer_wins 0\n",
      "user_wins 3\n",
      "esa opcion no es valida\n",
      "Empate!\n",
      "El ganador es el usuario\n",
      "**********\n",
      "ROUND 7\n",
      "**********\n",
      "computer_wins 0\n",
      "user_wins 3\n",
      "esa opcion no es valida\n",
      "Empate!\n",
      "El ganador es el usuario\n",
      "**********\n",
      "ROUND 8\n",
      "**********\n",
      "computer_wins 0\n",
      "user_wins 3\n",
      "esa opcion no es valida\n",
      "Empate!\n",
      "El ganador es el usuario\n",
      "**********\n",
      "ROUND 9\n",
      "**********\n",
      "computer_wins 0\n",
      "user_wins 3\n",
      "esa opcion no es valida\n",
      "Empate!\n",
      "El ganador es el usuario\n",
      "**********\n",
      "ROUND 10\n",
      "**********\n",
      "computer_wins 0\n",
      "user_wins 3\n",
      "esa opcion no es valida\n",
      "Empate!\n",
      "El ganador es el usuario\n",
      "**********\n",
      "ROUND 11\n",
      "**********\n",
      "computer_wins 0\n",
      "user_wins 3\n",
      "esa opcion no es valida\n",
      "Empate!\n",
      "El ganador es el usuario\n",
      "**********\n",
      "ROUND 12\n",
      "**********\n",
      "computer_wins 0\n",
      "user_wins 3\n",
      "esa opcion no es valida\n",
      "Empate!\n",
      "El ganador es el usuario\n",
      "**********\n",
      "ROUND 13\n",
      "**********\n",
      "computer_wins 0\n",
      "user_wins 3\n",
      "esa opcion no es valida\n",
      "Empate!\n",
      "El ganador es el usuario\n",
      "**********\n",
      "ROUND 14\n",
      "**********\n",
      "computer_wins 0\n",
      "user_wins 3\n"
     ]
    },
    {
     "ename": "",
     "evalue": "",
     "output_type": "error",
     "traceback": [
      "\u001b[1;31mCannot execute code, session has been disposed. Please try restarting the Kernel."
     ]
    },
    {
     "ename": "",
     "evalue": "",
     "output_type": "error",
     "traceback": [
      "\u001b[1;31mThe Kernel crashed while executing code in the the current cell or a previous cell. Please review the code in the cell(s) to identify a possible cause of the failure. Click <a href='https://aka.ms/vscodeJupyterKernelCrash'>here</a> for more info. View Jupyter <a href='command:jupyter.viewOutput'>log</a> for further details."
     ]
    }
   ],
   "source": [
    "def check_winner(user_wins,computer_wins):\n",
    "  if computer_wins == 3:\n",
    "    print('El ganador es la computadora')\n",
    "    exit()\n",
    "  \n",
    "  if user_wins == 3:\n",
    "    print('El ganador es el usuario')\n",
    "    exit()\n",
    "\n",
    "def run_game():\n",
    "  computer_wins = 0\n",
    "  user_wins = 0\n",
    "  rounds = 1\n",
    "  while True:\n",
    "     \n",
    "      print('*' * 10)\n",
    "      print('ROUND', rounds)\n",
    "      print('*' * 10)\n",
    "  \n",
    "      print('computer_wins', computer_wins)\n",
    "      print('user_wins', user_wins)\n",
    "      rounds += 1\n",
    "    \n",
    "      user_option, computer_option=choose_options()\n",
    "      user_wins, computer_wins=check_rules(user_option, computer_option, user_wins, computer_wins)\n",
    "      check_winner(user_wins, computer_wins)\n",
    "\n",
    "    \n",
    "run_game()"
   ]
  }
 ],
 "metadata": {
  "kernelspec": {
   "display_name": "Python 3",
   "language": "python",
   "name": "python3"
  },
  "language_info": {
   "codemirror_mode": {
    "name": "ipython",
    "version": 3
   },
   "file_extension": ".py",
   "mimetype": "text/x-python",
   "name": "python",
   "nbconvert_exporter": "python",
   "pygments_lexer": "ipython3",
   "version": "3.11.2"
  },
  "orig_nbformat": 4
 },
 "nbformat": 4,
 "nbformat_minor": 2
}
